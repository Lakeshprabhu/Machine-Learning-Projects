{
  "nbformat": 4,
  "nbformat_minor": 0,
  "metadata": {
    "colab": {
      "provenance": []
    },
    "kernelspec": {
      "name": "python3",
      "display_name": "Python 3"
    },
    "language_info": {
      "name": "python"
    }
  },
  "cells": [
    {
      "cell_type": "markdown",
      "source": [
        "\n",
        "\n",
        "# Custom Dataset\n",
        "\n",
        "\n"
      ],
      "metadata": {
        "id": "qchc5JNjAOJd"
      }
    },
    {
      "cell_type": "code",
      "execution_count": 167,
      "metadata": {
        "colab": {
          "base_uri": "https://localhost:8080/",
          "height": 448
        },
        "id": "mLFlKRInt7r8",
        "outputId": "50dba0bb-47d9-4046-a636-a6c9d7ef0b43"
      },
      "outputs": [
        {
          "output_type": "execute_result",
          "data": {
            "text/plain": [
              "<matplotlib.collections.PathCollection at 0x793b04434bd0>"
            ]
          },
          "metadata": {},
          "execution_count": 167
        },
        {
          "output_type": "display_data",
          "data": {
            "text/plain": [
              "<Figure size 640x480 with 1 Axes>"
            ],
            "image/png": "[encoded data removed]"
          },
          "metadata": {}
        }
      ],
      "source": [
        "import numpy as np\n",
        "import random\n",
        "import pandas as pd\n",
        "import seaborn as sns\n",
        "import matplotlib.pyplot as plt\n",
        "\n",
        "\n",
        "X = np.random.rand(100,1)\n",
        "y = 9 + 3*X.ravel() + np.random.rand(100)\n",
        "\n",
        "df = pd.DataFrame(np.column_stack((X,y)),columns=['abc', 'defo'])\n",
        "\n",
        "df.head()\n",
        "\n",
        "plt.scatter(X,y)\n",
        "\n"
      ]
    },
    {
      "cell_type": "markdown",
      "source": [
        "# Making and fitting the model"
      ],
      "metadata": {
        "id": "1YNTW_ydAS68"
      }
    },
    {
      "cell_type": "code",
      "source": [
        "def loss_function(m,b,points,x_rows,y_rows):\n",
        "  error = 0\n",
        "  for i in range(len(points)):\n",
        "    x = points.iloc[i][x_rows]\n",
        "    y = points.iloc[i][y_rows]\n",
        "\n",
        "    error+=(y - (m*x+b))**2\n",
        "\n",
        "  error = error/float(len(points))\n",
        "\n",
        "  return error\n",
        "\n",
        "\n",
        "\n",
        "def gradient_ascent(m_now,b_now , points , L,x_rows,y_rows):\n",
        "  m_gradient = 0\n",
        "  b_graident = 0\n",
        "\n",
        "  n = len(points)\n",
        "\n",
        "  for i in range(n):\n",
        "\n",
        "    x = points.iloc[i][x_rows]\n",
        "    y = points.iloc[i][y_rows]\n",
        "\n",
        "    m_gradient += (-2/n)*(y-(m_now*x + b_now))*x\n",
        "    b_graident += (-2/n)*(y-(m_now*x + b_now))\n",
        "\n",
        "  m  = m_now - m_gradient * L\n",
        "  b = b_now - b_graident * L\n",
        "\n",
        "  return m,b\n",
        "\n",
        "\n",
        "\n",
        "def predict(m,x,b):\n",
        "  return m*x+b\n",
        "\n",
        "def model_start(df,x_rows,y_rows):\n",
        "  m = 0\n",
        "  b= 0\n",
        "  L = 0.001\n",
        "\n",
        "  epochs = 250\n",
        "\n",
        "\n",
        "  for i in range(epochs):\n",
        "    m,b = gradient_ascent(m,b,df,L,x_rows,y_rows)\n",
        "\n",
        "\n",
        "\n",
        "\n",
        "  print(f\" m is {m}  and b is {b}\")\n",
        "\n",
        "  return m,b\n",
        "\n",
        "\n",
        "\n",
        "\n",
        "\n",
        "\n",
        "# print(loss_function(m,b,df))\n",
        "\n",
        "# plt.scatter(df.abc,df.defo)\n",
        "# axis = plt.twinx()\n",
        "# axis.plot(list(range(20,80)),[m*x + b for x in range(20,80)],color = 'red')"
      ],
      "metadata": {
        "id": "v0RecAj_AWFZ"
      },
      "execution_count": 201,
      "outputs": []
    },
    {
      "cell_type": "markdown",
      "source": [
        "# Testing our model on new Dataset"
      ],
      "metadata": {
        "id": "iNUX8Kezwma6"
      }
    },
    {
      "cell_type": "code",
      "source": [
        "from sklearn.model_selection import train_test_split\n",
        "from sklearn.metrics import accuracy_score\n",
        "\n",
        "df_2 = pd.read_csv(\"/content/score.csv\")\n",
        "\n",
        "\n",
        "\n",
        "model_2 = model_start(df_2,'Hours','Scores')\n",
        "\n",
        "\n",
        "df_3 = pd.read_csv(\"/content/score_updated.csv\")\n",
        "\n",
        "prediction = predict(model_2[0],df_3['Hours'],model_2[1])\n",
        "\n",
        "print(f\"The total error mean squared lost is {loss_function(model_2[0],model_2[1],df_3,'Hours','Scores')}\")\n",
        "\n",
        "\n"
      ],
      "metadata": {
        "colab": {
          "base_uri": "https://localhost:8080/"
        },
        "id": "7KsafMILzbhK",
        "outputId": "637f4c95-3503-4d9d-fbeb-cff66f4475f1"
      },
      "execution_count": 204,
      "outputs": [
        {
          "output_type": "stream",
          "name": "stdout",
          "text": [
            " m is 9.905306423755318  and b is 1.6813754178175104\n",
            "The total error mean squared lost is 11.566292535572877\n"
          ]
        }
      ]
    },
    {
      "cell_type": "code",
      "source": [],
      "metadata": {
        "colab": {
          "base_uri": "https://localhost:8080/"
        },
        "id": "Be7TQK8m2lui",
        "outputId": "c482b09a-9e07-4236-90d5-fbf5f390c573"
      },
      "execution_count": 187,
      "outputs": [
        {
          "output_type": "stream",
          "name": "stdout",
          "text": [
            "0     26.443042\n",
            "1     52.302035\n",
            "2     33.405079\n",
            "3     86.117641\n",
            "4     36.388809\n",
            "        ...    \n",
            "91    59.264072\n",
            "92    45.339999\n",
            "93    62.247802\n",
            "94    38.377962\n",
            "95    81.144758\n",
            "Name: Hours, Length: 96, dtype: float64\n"
          ]
        }
      ]
    }
  ]
}